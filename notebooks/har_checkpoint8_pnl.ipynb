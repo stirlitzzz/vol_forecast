{
 "cells": [
  {
   "cell_type": "code",
   "execution_count": 2,
   "id": "08464b8d",
   "metadata": {},
   "outputs": [],
   "source": [
    "%load_ext autoreload\n",
    "%autoreload 2"
   ]
  },
  {
   "cell_type": "code",
   "execution_count": 1,
   "id": "c1f41bc1",
   "metadata": {},
   "outputs": [],
   "source": [
    "import sys\n",
    "#project_root = os.path.abspath(os.path.join(os.getcwd(), \"..\"))\n",
    "#sys.path.insert(0, project_root)\n",
    "sys.path.append(\"..\") \n",
    "sys.path.append(\"../src\")"
   ]
  },
  {
   "cell_type": "code",
   "execution_count": 3,
   "id": "73d8bd76",
   "metadata": {},
   "outputs": [],
   "source": [
    "from src.checkpoint_storage import save_all_checkpoints_v2,load_all_checkpoints_v2"
   ]
  },
  {
   "cell_type": "code",
   "execution_count": 4,
   "id": "699ce7c9",
   "metadata": {},
   "outputs": [],
   "source": [
    "checkpoint=load_all_checkpoints_v2(\"har_pre_model_20250801_144835\")"
   ]
  },
  {
   "cell_type": "code",
   "execution_count": 6,
   "id": "ff6b77b8",
   "metadata": {},
   "outputs": [
    {
     "data": {
      "text/plain": [
       "{}"
      ]
     },
     "execution_count": 6,
     "metadata": {},
     "output_type": "execute_result"
    }
   ],
   "source": [
    "checkpoint\n",
    "\n",
    "\n",
    "\n",
    "\n",
    "\n",
    "\n",
    "\n",
    "\n"
   ]
  }
 ],
 "metadata": {
  "kernelspec": {
   "display_name": "ml_env13",
   "language": "python",
   "name": "python3"
  },
  "language_info": {
   "codemirror_mode": {
    "name": "ipython",
    "version": 3
   },
   "file_extension": ".py",
   "mimetype": "text/x-python",
   "name": "python",
   "nbconvert_exporter": "python",
   "pygments_lexer": "ipython3",
   "version": "3.13.2"
  }
 },
 "nbformat": 4,
 "nbformat_minor": 5
}
