{
 "cells": [
  {
   "cell_type": "code",
   "execution_count": 1,
   "id": "50e157d5",
   "metadata": {},
   "outputs": [
    {
     "ename": "ModuleNotFoundError",
     "evalue": "No module named 'vol_utils'",
     "output_type": "error",
     "traceback": [
      "\u001b[31m---------------------------------------------------------------------------\u001b[39m",
      "\u001b[31mModuleNotFoundError\u001b[39m                       Traceback (most recent call last)",
      "\u001b[36mCell\u001b[39m\u001b[36m \u001b[39m\u001b[32mIn[1]\u001b[39m\u001b[32m, line 9\u001b[39m\n\u001b[32m      6\u001b[39m \u001b[38;5;28;01mimport\u001b[39;00m\u001b[38;5;250m \u001b[39m\u001b[34;01msys\u001b[39;00m\n\u001b[32m      7\u001b[39m sys.path.append(\u001b[33m'\u001b[39m\u001b[33m../src\u001b[39m\u001b[33m'\u001b[39m)  \u001b[38;5;66;03m# only needed if you're not packaging yet\u001b[39;00m\n\u001b[32m----> \u001b[39m\u001b[32m9\u001b[39m \u001b[38;5;28;01mfrom\u001b[39;00m\u001b[38;5;250m \u001b[39m\u001b[34;01mvol_utils\u001b[39;00m\u001b[38;5;250m \u001b[39m\u001b[38;5;28;01mimport\u001b[39;00m compute_log_returns, annualized_volatility_mean_square\n\u001b[32m     11\u001b[39m \u001b[38;5;28;01mimport\u001b[39;00m\u001b[38;5;250m \u001b[39m\u001b[34;01mpandas\u001b[39;00m\u001b[38;5;250m \u001b[39m\u001b[38;5;28;01mas\u001b[39;00m\u001b[38;5;250m \u001b[39m\u001b[34;01mpd\u001b[39;00m\n\u001b[32m     13\u001b[39m df = pd.read_csv(\u001b[33m\"\u001b[39m\u001b[33m../output/all_vols.csv\u001b[39m\u001b[33m\"\u001b[39m)\n",
      "\u001b[31mModuleNotFoundError\u001b[39m: No module named 'vol_utils'"
     ]
    }
   ],
   "source": [
    "\n",
    "import numpy as np\n",
    "import pandas as pd\n",
    "from pathlib import Path\n",
    "from zoneinfo import ZoneInfo  # Built-in from Python 3.9+\n",
    "\n",
    "import sys\n",
    "sys.path.append('../src')  # only needed if you're not packaging yet\n",
    "\n",
    "from vol_utils import compute_log_returns, annualized_volatility_mean_square\n",
    "\n",
    "import pandas as pd\n",
    "\n",
    "df = pd.read_csv(\"../output/all_vols.csv\")\n",
    "df['date'] = pd.to_datetime(df['date'])  # ensure proper datetime type\n",
    "\n",
    "def add_har_features(df, vol_col='annualized_vol_30min'):\n",
    "    df = df.sort_values(['ticker', 'date'])\n",
    "    df['har_1d'] = df.groupby('ticker')[vol_col].shift(1)\n",
    "    df['har_1w'] = df.groupby('ticker')[vol_col].shift(1).rolling(window=5, min_periods=5).mean().reset_index(0, drop=True)\n",
    "    df['har_1m'] = df.groupby('ticker')[vol_col].shift(1).rolling(window=21, min_periods=21).mean().reset_index(0, drop=True)\n",
    "    return df\n",
    "\n",
    "from statsmodels.api import OLS, add_constant\n",
    "\n",
    "def run_cross_sectional_har(df, target_col='annualized_vol_30min'):\n",
    "    results = []\n",
    "    \n",
    "    for date, group in df.groupby('date'):\n",
    "        # Drop NAs from any HAR column\n",
    "        sub = group.dropna(subset=['har_1d', 'har_1w', 'har_1m', target_col])\n",
    "        if len(sub) < 10:  # not enough tickers that day\n",
    "            continue\n",
    "\n",
    "        X = sub[['har_1d', 'har_1w', 'har_1m']]\n",
    "        X = add_constant(X)\n",
    "        y = sub[target_col]\n",
    "\n",
    "        model = OLS(y, X).fit()\n",
    "        r2 = model.rsquared\n",
    "        errors = model.resid\n",
    "        \n",
    "        result = {\n",
    "            'date': date,\n",
    "            'beta_0': model.params['const'],\n",
    "            'beta_1d': model.params['har_1d'],\n",
    "            'beta_1w': model.params['har_1w'],\n",
    "            'beta_1m': model.params['har_1m'],\n",
    "            'r2': model.rsquared,\n",
    "            'rmse': np.sqrt(np.mean(errors**2)),\n",
    "            'n_obs': len(sub)\n",
    "        }\n",
    "        results.append(result)\n",
    "    \n",
    "    return pd.DataFrame(results)\n",
    "\n",
    "vol_df = add_har_features(df, vol_col='annualized_vol_30min')\n",
    "cs_har_results = run_cross_sectional_har(vol_df)\n",
    "\n",
    "cs_har_results.plot(x='date', y=['beta_1d', 'beta_1w', 'beta_1m','beta_0'], title=\"HAR Cross-Sectional Coefficients\")"
   ]
  }
 ],
 "metadata": {
  "kernelspec": {
   "display_name": "ml_env13",
   "language": "python",
   "name": "python3"
  },
  "language_info": {
   "codemirror_mode": {
    "name": "ipython",
    "version": 3
   },
   "file_extension": ".py",
   "mimetype": "text/x-python",
   "name": "python",
   "nbconvert_exporter": "python",
   "pygments_lexer": "ipython3",
   "version": "3.13.2"
  }
 },
 "nbformat": 4,
 "nbformat_minor": 5
}
